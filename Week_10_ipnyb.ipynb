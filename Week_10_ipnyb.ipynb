{
  "cells": [
    {
      "cell_type": "markdown",
      "metadata": {
        "id": "view-in-github",
        "colab_type": "text"
      },
      "source": [
        "<a href=\"https://colab.research.google.com/github/AthThahiru/Laporan-Hasil-Praktikum-Week-10/blob/main/Week_10_ipnyb.ipynb\" target=\"_parent\"><img src=\"https://colab.research.google.com/assets/colab-badge.svg\" alt=\"Open In Colab\"/></a>"
      ]
    },
    {
      "cell_type": "code",
      "execution_count": null,
      "metadata": {
        "colab": {
          "base_uri": "https://localhost:8080/"
        },
        "id": "CkR-K0AEFT0Q",
        "outputId": "37fc0be2-851c-4c93-fab0-8e1a6653b848"
      },
      "outputs": [
        {
          "name": "stdout",
          "output_type": "stream",
          "text": [
            "Halo dari ku\n"
          ]
        }
      ],
      "source": [
        "# Ex function\n",
        "\n",
        "def function() :\n",
        "  print (\"Halo dari ku\")\n",
        "function()"
      ]
    },
    {
      "cell_type": "markdown",
      "metadata": {
        "id": "-lzHeRmpHlb4"
      },
      "source": [
        "# Argumen\n"
      ]
    },
    {
      "cell_type": "code",
      "execution_count": null,
      "metadata": {
        "colab": {
          "base_uri": "https://localhost:8080/"
        },
        "id": "K1DGpbcaHZs6",
        "outputId": "219ea4fa-f9c9-4f16-a75e-9136eb38bfd6"
      },
      "outputs": [
        {
          "name": "stdout",
          "output_type": "stream",
          "text": [
            "Bayam Idok \n",
            "Short Idok \n"
          ]
        }
      ],
      "source": [
        "# Ex argumen\n",
        "\n",
        "def fungsiku (nama)  :\n",
        "  print (nama + \" Idok \")\n",
        "\n",
        "fungsiku (\"Bayam\")\n",
        "fungsiku (\"Short\")\n",
        "\n"
      ]
    },
    {
      "cell_type": "code",
      "execution_count": null,
      "metadata": {
        "colab": {
          "background_save": true,
          "base_uri": "https://localhost:8080/"
        },
        "id": "-HG1DUDPKvW-",
        "outputId": "1ebcba9e-6317-4fcb-cf54-6bfd49ed820e"
      },
      "outputs": [
        {
          "name": "stdout",
          "output_type": "stream",
          "text": [
            "Thahir Is Real\n"
          ]
        }
      ],
      "source": [
        "# Ex 2 argumen\n",
        "\n",
        "def fungsi (fname, lname) :\n",
        "  print (fname + \" \" + lname)\n",
        "\n",
        "fungsi ( \"Thahir\", \"Is Real\")"
      ]
    },
    {
      "cell_type": "code",
      "execution_count": null,
      "metadata": {
        "id": "oqFc7QXlIfnx",
        "colab": {
          "base_uri": "https://localhost:8080/"
        },
        "outputId": "f3be253d-f956-4300-ab9d-fdb548b43751"
      },
      "outputs": [
        {
          "output_type": "stream",
          "name": "stdout",
          "text": [
            "Anak terbandel adalah Simin\n"
          ]
        }
      ],
      "source": [
        "# Ex argumen sembarang\n",
        "\n",
        "def fungsi (*anak) :\n",
        "  print (\"Anak terbandel adalah \" + anak[0])\n",
        "\n",
        "fungsi (\"Simin\", \"Taekmin\", \"Jungmin\")"
      ]
    },
    {
      "cell_type": "code",
      "source": [
        "# Ex argumen kata kunci\n",
        "\n",
        "def fungsi (anak1, anak2, anak3)  :\n",
        "  print (\"Anak terajin adalah \" + anak2)\n",
        "\n",
        "fungsi (anak1 = \"Bowo\", anak2 = \"Joko\", anak3 = \"Sobar\")"
      ],
      "metadata": {
        "colab": {
          "base_uri": "https://localhost:8080/"
        },
        "id": "Z6lymUYcM01j",
        "outputId": "81089b8e-d62e-4bb2-8d2a-f2032f24891f"
      },
      "execution_count": null,
      "outputs": [
        {
          "output_type": "stream",
          "name": "stdout",
          "text": [
            "Anak terajin adalah Joko\n"
          ]
        }
      ]
    },
    {
      "cell_type": "code",
      "source": [],
      "metadata": {
        "id": "_79JYzt4MV1r"
      },
      "execution_count": null,
      "outputs": []
    },
    {
      "cell_type": "markdown",
      "source": [
        "# Latihan Mingguan 1"
      ],
      "metadata": {
        "id": "h0ewV13-MQKm"
      }
    },
    {
      "cell_type": "code",
      "source": [
        "def faktorial (n) :\n",
        "  if n == 0       :\n",
        "    return 1\n",
        "  else            :\n",
        "    return n * faktorial (n-1)\n",
        "\n",
        "nomor = int (input (\"Masukkan angka : \"))\n",
        "\n",
        "if nomor < 0      :\n",
        "  print (\"Faktorial hanya untuk bilangan bulat positif\")\n",
        "else              :\n",
        "  print (\"Faktorial dari\", nomor, \"adalah\", faktorial (nomor))"
      ],
      "metadata": {
        "id": "WiuP2ZQlNgaa",
        "colab": {
          "base_uri": "https://localhost:8080/"
        },
        "outputId": "f959b79a-b85f-4965-9884-7f791fa5b666"
      },
      "execution_count": null,
      "outputs": [
        {
          "output_type": "stream",
          "name": "stdout",
          "text": [
            "Masukkan angka : 3\n",
            "Faktorial dari 3 adalah 6\n"
          ]
        }
      ]
    },
    {
      "cell_type": "markdown",
      "source": [
        "# Latihan Mingguan 2"
      ],
      "metadata": {
        "id": "7wuhuSE9XfcQ"
      }
    },
    {
      "cell_type": "code",
      "source": [
        "def llingkaran ()   :\n",
        "  phi               = 3.14\n",
        "  jari2             = float (input (\"Masukkan Jari-Jari Lingkaran : \"))\n",
        "  luas              = phi * jari2 * jari2\n",
        "  print             (\"Luas Lingkaran               :\", luas)\n",
        "\n",
        "def lpersegi ()     :\n",
        "  sisi              = float (input (\"Masukkan Sisi Persegi        : \"))\n",
        "  luas              = float (sisi * sisi)\n",
        "  print             (\"Luas Persegi                 :\", luas)\n",
        "\n",
        "def lsegitiga ()    :\n",
        "  alas              = float (input (\"Masukkan Alas Segitiga       : \"))\n",
        "  tinggi            = float (input (\"Masukkan Tinggi Segitiga     : \"))\n",
        "  luas              = float (alas * tinggi / 2)\n",
        "  print             (\"Luas Segitiga                :\", luas)\n",
        "\n",
        "def fungsi ()       :\n",
        "  print (\"Program Menghitung Luas Bangun Datar\")\n",
        "  print (\"1. Luas Lingkaran                   \")\n",
        "  print (\"2. Luas Persegi                     \")\n",
        "  print (\"3. Luas Segitiga                    \")\n",
        "  print (\"4. Keluar                           \")\n",
        "  print (\"------------------------------------\")\n",
        "  print (\"\\n\")\n",
        "\n",
        "  pilihan           = int (input (\"Masukkan Pilihan Anda        : \"))\n",
        "  if   pilihan == 1 :\n",
        "    llingkaran ()\n",
        "  elif pilihan == 2 :\n",
        "    lpersegi   ()\n",
        "  elif pilihan == 3 :\n",
        "    lsegitiga  ()\n",
        "\n",
        "fungsi ()"
      ],
      "metadata": {
        "colab": {
          "base_uri": "https://localhost:8080/"
        },
        "id": "XLLgqofGXiMk",
        "outputId": "15a815b4-0296-4ddb-8075-f058214f04c0"
      },
      "execution_count": null,
      "outputs": [
        {
          "output_type": "stream",
          "name": "stdout",
          "text": [
            "Program Menghitung Luas Bangun Datar\n",
            "1. Luas Lingkaran                   \n",
            "2. Luas Persegi                     \n",
            "3. Luas Segitiga                    \n",
            "4. Keluar                           \n",
            "------------------------------------\n",
            "\n",
            "\n",
            "Masukkan Pilihan Anda        : 3\n",
            "Masukkan Alas Segitiga       : 4\n",
            "Masukkan Tinggi Segitiga     : 2\n",
            "Luas Segitiga                : 4.0\n"
          ]
        }
      ]
    }
  ],
  "metadata": {
    "colab": {
      "provenance": [],
      "authorship_tag": "ABX9TyPwJyKjaz5aPqWwWu+K4xcp",
      "include_colab_link": true
    },
    "kernelspec": {
      "display_name": "Python 3",
      "name": "python3"
    },
    "language_info": {
      "name": "python"
    }
  },
  "nbformat": 4,
  "nbformat_minor": 0
}